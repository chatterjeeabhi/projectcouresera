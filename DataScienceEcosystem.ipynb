{
 "cells": [
  {
   "cell_type": "markdown",
   "id": "d14fb2c2-9f0e-4c7a-b150-778f134b0698",
   "metadata": {},
   "source": [
    "# Data Science Tools and Ecosystem"
   ]
  },
  {
   "cell_type": "markdown",
   "id": "83cab9df-ff65-46c8-9b04-7919435c4b81",
   "metadata": {},
   "source": [
    "In this notebook, Data Science Tools and Ecosystem are summarized."
   ]
  },
  {
   "cell_type": "markdown",
   "id": "c5c3a0dd-5301-4ba1-9e3b-14027e9b5c57",
   "metadata": {},
   "source": [
    "Some of the popular languages that Data Scientists use are:\n",
    "1. Python \n",
    "2. JULIA\n",
    "3. R\n",
    "4. SCALA"
   ]
  },
  {
   "cell_type": "markdown",
   "id": "55f97844-0a96-4f59-8fc7-11608e0863eb",
   "metadata": {},
   "source": [
    "**Objectives:**\n",
    "* Get to known about VARIOUS DATA SCIENCE library \n",
    "* Get to known about various types of language we use to operate in data science\n",
    "* Get to known about various types of open and commercial source for data\n",
    "* learns various coding languages and working in different different library like python and R\n",
    "* Data science is very important in our day to day life data science is process of collecting data  "
   ]
  },
  {
   "cell_type": "markdown",
   "id": "573c5015-3526-4ec3-9413-0ce1416c4b97",
   "metadata": {},
   "source": [
    "Some of the commonly used libraries used by Data Scientists include:\n",
    "1. PANDAS\n",
    "2. Scikit learn\n",
    "3. pytorch\n",
    "4. matplotlib\n",
    "5. tensorflow\n"
   ]
  },
  {
   "cell_type": "markdown",
   "id": "d640c3a1-c2dd-496b-ba30-eb94849eccd8",
   "metadata": {},
   "source": [
    "|Data Science Tools|\n",
    "|---------|\n",
    "|apache spark sql|\n",
    "|mysql|\n",
    "|git|\n",
    "|gihub"
   ]
  },
  {
   "cell_type": "markdown",
   "id": "49385352-09b5-4025-99c0-4a1ba61d40d0",
   "metadata": {},
   "source": [
    "### Below are a few examples of evaluating arithmetic expressions in Python"
   ]
  },
  {
   "cell_type": "code",
   "execution_count": 1,
   "id": "fd3d73ad-5cc8-4959-b53b-5a8662026251",
   "metadata": {
    "tags": []
   },
   "outputs": [
    {
     "data": {
      "text/plain": [
       "17"
      ]
     },
     "execution_count": 1,
     "metadata": {},
     "output_type": "execute_result"
    }
   ],
   "source": [
    "# This a simple arithmetic expression to mutiply then add integers\n",
    "(3*4)+5"
   ]
  },
  {
   "cell_type": "code",
   "execution_count": 2,
   "id": "b107529a-fbb1-4306-b13c-040d45581b51",
   "metadata": {
    "tags": []
   },
   "outputs": [
    {
     "data": {
      "text/plain": [
       "3.3333333333333335"
      ]
     },
     "execution_count": 2,
     "metadata": {},
     "output_type": "execute_result"
    }
   ],
   "source": [
    "# This will convert 200 minutes to hours by diving by 60\n",
    "200/60"
   ]
  },
  {
   "cell_type": "markdown",
   "id": "8aa1e19f-290c-4699-80a0-52bbfa684493",
   "metadata": {},
   "source": [
    "## Author\n",
    "Abhishek Chatterjee"
   ]
  },
  {
   "cell_type": "code",
   "execution_count": null,
   "id": "5cfe3e0c-c3fc-4999-b0a8-946a879eea0e",
   "metadata": {},
   "outputs": [],
   "source": []
  }
 ],
 "metadata": {
  "kernelspec": {
   "display_name": "Python",
   "language": "python",
   "name": "conda-env-python-py"
  },
  "language_info": {
   "codemirror_mode": {
    "name": "ipython",
    "version": 3
   },
   "file_extension": ".py",
   "mimetype": "text/x-python",
   "name": "python",
   "nbconvert_exporter": "python",
   "pygments_lexer": "ipython3",
   "version": "3.7.12"
  }
 },
 "nbformat": 4,
 "nbformat_minor": 5
}
